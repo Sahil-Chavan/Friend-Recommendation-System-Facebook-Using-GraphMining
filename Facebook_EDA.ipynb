{
 "metadata": {
  "language_info": {
   "codemirror_mode": {
    "name": "ipython",
    "version": 3
   },
   "file_extension": ".py",
   "mimetype": "text/x-python",
   "name": "python",
   "nbconvert_exporter": "python",
   "pygments_lexer": "ipython3",
   "version": 3
  },
  "orig_nbformat": 2
 },
 "nbformat": 4,
 "nbformat_minor": 2,
 "cells": [
  {
   "source": [
    "<p style=\"font-size:32px;text-align:center\"> <b>Social network Graph Link Prediction - Facebook Challenge</b> </p>"
   ],
   "cell_type": "markdown",
   "metadata": {}
  },
  {
   "source": [
    "### Problem statement: \n",
    "Given a directed social graph, have to predict missing links to recommend users (Link Prediction in graph)"
   ],
   "cell_type": "markdown",
   "metadata": {}
  },
  {
   "source": [
    "### Data Overview\n",
    "Taken data from facebook's recruting challenge on kaggle https://www.kaggle.com/c/FacebookRecruiting  \n",
    "data contains two columns source and destination eac edge in graph \n",
    "    - Data columns (total 2 columns):  \n",
    "    - source_node         int64  \n",
    "    - destination_node    int64  "
   ],
   "cell_type": "markdown",
   "metadata": {}
  },
  {
   "source": [
    "### Mapping the problem into supervised learning problem:\n",
    "- Generated training samples of good and bad links from given directed graph and for each link got some features like no of followers, is he followed back, page rank, katz score, adar index, some svd fetures of adj matrix, some weight features etc. and trained ml model based on these features to predict link. \n",
    "- Some reference papers and videos :  \n",
    "    - https://www.cs.cornell.edu/home/kleinber/link-pred.pdf\n",
    "    - https://www3.nd.edu/~dial/publications/lichtenwalter2010new.pdf\n",
    "    - https://kaggle2.blob.core.windows.net/forum-message-attachments/2594/supervised_link_prediction.pdf\n",
    "    - https://www.youtube.com/watch?v=2M77Hgy17cg"
   ],
   "cell_type": "markdown",
   "metadata": {}
  },
  {
   "source": [
    "### Business objectives and constraints:  \n",
    "- No low-latency requirement.\n",
    "- Predciting the probability of a link is useful so as to recommend the highest probability links to a user.\n",
    "- We got to suggest connnections which are most likley to be correct and we should try and not miss out any connnections.(Basically high 'precision' and 'recall')"
   ],
   "cell_type": "markdown",
   "metadata": {}
  },
  {
   "source": [
    "### Performance metric for supervised learning:  \n",
    "- Both precision and recall is important so F1 score is good choice\n",
    "- Confusion matrix\n",
    "- Another good option would have been Precision@top10 say if your requirement was to show only top ten predicted nodes.(But we would not be using this here, so as to keep it simpl)"
   ],
   "cell_type": "markdown",
   "metadata": {}
  },
  {
   "cell_type": "code",
   "execution_count": null,
   "metadata": {},
   "outputs": [],
   "source": []
  }
 ]
}