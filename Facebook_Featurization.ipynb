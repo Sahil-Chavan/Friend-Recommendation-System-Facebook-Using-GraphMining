{
 "metadata": {
  "language_info": {
   "codemirror_mode": {
    "name": "ipython",
    "version": 3
   },
   "file_extension": ".py",
   "mimetype": "text/x-python",
   "name": "python",
   "nbconvert_exporter": "python",
   "pygments_lexer": "ipython3",
   "version": "3.7.9-final"
  },
  "orig_nbformat": 2,
  "kernelspec": {
   "name": "python3",
   "display_name": "Python 3.7.9 64-bit ('ml1': conda)",
   "metadata": {
    "interpreter": {
     "hash": "24b04341fb2b46c4dd66e0f21e934c64052be02fe2d7f9a5c55981f8226ca5cf"
    }
   }
  }
 },
 "nbformat": 4,
 "nbformat_minor": 2,
 "cells": [
  {
   "source": [
    "<p style=\"font-size:32px;text-align:center\"> <b>Social network Graph Link Prediction - Facebook Challenge</b> </p>\n",
    "\n",
    ">>>>>>>>>>>>> # Featurization"
   ],
   "cell_type": "markdown",
   "metadata": {}
  },
  {
   "cell_type": "code",
   "execution_count": 1,
   "metadata": {},
   "outputs": [],
   "source": [
    "import pickle\n",
    "import math\n",
    "import numpy as np\n",
    "import pandas as pd\n",
    "import matplotlib.pyplot as plt\n",
    "%matplotlib inline\n",
    "import seaborn as sns\n",
    "import networkx as nx\n"
   ]
  },
  {
   "source": [
    "# 1. Reading Data"
   ],
   "cell_type": "markdown",
   "metadata": {}
  },
  {
   "cell_type": "code",
   "execution_count": 2,
   "metadata": {},
   "outputs": [
    {
     "output_type": "execute_result",
     "data": {
      "text/plain": [
       "((15100029, 1), (15100029, 2), (3775007, 1), (3775007, 2))"
      ]
     },
     "metadata": {},
     "execution_count": 2
    }
   ],
   "source": [
    "X_train = pd.read_csv('datasets/my/xtrain.csv')\n",
    "Y_train = pd.read_csv('datasets/my/ytrain.csv')\n",
    "X_test = pd.read_csv('datasets/my/xtest.csv')\n",
    "Y_test = pd.read_csv('datasets/my/ytest.csv')\n",
    "Y_train.shape,X_train.shape,Y_test.shape,X_test.shape"
   ]
  },
  {
   "source": [
    "graph created using the positive training data as the negative data consists of unconnected edges which is useless while creating graph"
   ],
   "cell_type": "markdown",
   "metadata": {}
  },
  {
   "cell_type": "code",
   "execution_count": 3,
   "metadata": {},
   "outputs": [],
   "source": [
    "tg=nx.read_edgelist('datasets/data/after_eda/train_pos_after_eda.csv',delimiter=',',create_using=nx.DiGraph(),nodetype=int) "
   ]
  },
  {
   "source": [
    "# 2. Similarity measures"
   ],
   "cell_type": "markdown",
   "metadata": {}
  },
  {
   "source": [
    "## 2.1 Jaccard Distance:\n",
    "http://www.statisticshowto.com/jaccard-index/"
   ],
   "cell_type": "markdown",
   "metadata": {}
  },
  {
   "source": [
    "\\begin{equation}\n",
    "j = \\frac{|X\\cap Y|}{|X \\cup Y|} \n",
    "\\end{equation}"
   ],
   "cell_type": "markdown",
   "metadata": {}
  },
  {
   "source": [
    "### 2.1.1 For Followee (i.e. the source and destination nodes are Followee)"
   ],
   "cell_type": "markdown",
   "metadata": {}
  },
  {
   "cell_type": "code",
   "execution_count": 4,
   "metadata": {},
   "outputs": [],
   "source": [
    "def jacc_followee(u,v,g):\n",
    "    try:\n",
    "        u_followers  = set([ x for (x,y) in g.in_edges(u)])\n",
    "        v_followers  = set([ x for (x,y) in g.in_edges(v)])\n",
    "        if len(u_followers)==0 | len(v_followers)==0:\n",
    "            return 0\n",
    "        return len(u_followers.intersection(v_followers))/len(u_followers.union(v_followers))\n",
    "    except:\n",
    "        return 0 "
   ]
  },
  {
   "source": [
    "### 2.1.2 For Follower (i.e. the source and destination nodes are Followers)"
   ],
   "cell_type": "markdown",
   "metadata": {}
  },
  {
   "cell_type": "code",
   "execution_count": 5,
   "metadata": {},
   "outputs": [],
   "source": [
    "def jacc_follower(u,v,g):\n",
    "    try:\n",
    "        u_followees  = set([ y for (x,y) in g.out_edges(u)])\n",
    "        v_followees  = set([ y for (x,y) in g.out_edges(v)])\n",
    "        if len(u_followees)==0 | len(v_followees)==0:\n",
    "            return 0\n",
    "        return len(u_followees.intersection(v_followees))/len(u_followees.union(v_followees))\n",
    "    except:\n",
    "        return 0 "
   ]
  },
  {
   "source": [
    "### 2.1.3 AAI Functions"
   ],
   "cell_type": "markdown",
   "metadata": {}
  },
  {
   "cell_type": "code",
   "execution_count": 6,
   "metadata": {},
   "outputs": [],
   "source": [
    "# #for followees\n",
    "# def jaccard_for_followees(a,b):\n",
    "#     try:\n",
    "#         if len(set(train_graph.successors(a))) == 0  | len(set(train_graph.successors(b))) == 0:\n",
    "#             return 0\n",
    "#         sim = (len(set(train_graph.successors(a)).intersection(set(train_graph.successors(b)))))/\\\n",
    "#                                     (len(set(train_graph.successors(a)).union(set(train_graph.successors(b)))))\n",
    "#     except:\n",
    "#         return 0\n",
    "#     return sim\n",
    "    \n",
    "# #for followers\n",
    "# def jaccard_for_followers(a,b):\n",
    "#     try:\n",
    "#         if len(set(train_graph.predecessors(a))) == 0  | len(set(g.predecessors(b))) == 0:\n",
    "#             return 0\n",
    "#         sim = (len(set(train_graph.predecessors(a)).intersection(set(train_graph.predecessors(b)))))/\\\n",
    "#                                  (len(set(train_graph.predecessors(a)).union(set(train_graph.predecessors(b)))))\n",
    "#         return sim\n",
    "#     except:\n",
    "#         return 0"
   ]
  },
  {
   "source": [
    "## 2.2 Cosine distance"
   ],
   "cell_type": "markdown",
   "metadata": {}
  },
  {
   "source": [
    "\\begin{equation}\n",
    "CosineDistance = \\frac{|X\\cap Y|}{|X|\\cdot|Y|} \n",
    "\\end{equation}\n",
    "it has an"
   ],
   "cell_type": "markdown",
   "metadata": {}
  },
  {
   "cell_type": "code",
   "execution_count": 7,
   "metadata": {},
   "outputs": [],
   "source": [
    "# u,v being followee\n",
    "def cosine_followee(u,v,g):\n",
    "    try:\n",
    "        u_followers  = set([ x for (x,y) in g.in_edges(u)])\n",
    "        v_followers  = set([ x for (x,y) in g.in_edges(v)])\n",
    "        if len(u_followers)==0 | len(v_followers)==0:\n",
    "            return 0\n",
    "        return len(u_followers.intersection(v_followers))/math.sqrt(len(u_followers)*len(v_followers))\n",
    "    except:\n",
    "        return 0 \n",
    "# u,v being followers\n",
    "def cosine_follower(u,v,g):\n",
    "    try:\n",
    "        u_followees  = set([ y for (x,y) in g.out_edges(u)])\n",
    "        v_followees  = set([ y for (x,y) in g.out_edges(v)])\n",
    "        if len(u_followees)==0 | len(v_followees)==0:\n",
    "            return 0\n",
    "        return len(u_followees.intersection(v_followees))/math.sqrt(len(u_followees)*len(v_followees))\n",
    "    except:\n",
    "        return 0 "
   ]
  },
  {
   "source": [
    "### AAI functions"
   ],
   "cell_type": "markdown",
   "metadata": {}
  },
  {
   "cell_type": "code",
   "execution_count": 8,
   "metadata": {},
   "outputs": [],
   "source": [
    "# #for followees\n",
    "# def cosine_for_followees(a,b):\n",
    "#     try:\n",
    "#         if len(set(tg.successors(a))) == 0  | len(set(tg.successors(b))) == 0:\n",
    "#             return 0\n",
    "#         sim = (len(set(tg.successors(a)).intersection(set(tg.successors(b)))))/\\\n",
    "#                                     (math.sqrt(len(set(tg.successors(a)))*len((set(tg.successors(b))))))    \n",
    "#         return sim\n",
    "#     except:\n",
    "#         return 0\n",
    "\n",
    "# # for followers \n",
    "# def cosine_for_followers(a,b):\n",
    "#     try:\n",
    "        \n",
    "#         if len(set(tg.predecessors(a))) == 0  | len(set(tg.predecessors(b))) == 0:\n",
    "#             return 0\n",
    "#         sim = (len(set(tg.predecessors(a)).intersection(set(tg.predecessors(b)))))/\\\n",
    "#                                      (math.sqrt(len(set(tg.predecessors(a))))*(len(set(tg.predecessors(b)))))\n",
    "#         return sim\n",
    "#     except:\n",
    "#         return 0\n"
   ]
  },
  {
   "source": [
    "## 3. Ranking Measures"
   ],
   "cell_type": "markdown",
   "metadata": {}
  },
  {
   "source": [
    "https://networkx.github.io/documentation/networkx-1.10/reference/generated/networkx.algorithms.link_analysis.pagerank_alg.pagerank.html\n",
    "\n",
    "PageRank computes a ranking of the nodes in the graph G based on the structure of the incoming links.\n",
    "\n",
    "<img src='PageRanks-Example.jpg' height=300px />\n",
    "\n",
    "Mathematical PageRanks for a simple network, expressed as percentages. (Google uses a logarithmic scale.) Page C has a higher PageRank than Page E, even though there are fewer links to C; the one link to C comes from an important page and hence is of high value. If web surfers who start on a random page have an 85% likelihood of choosing a random link from the page they are currently visiting, and a 15% likelihood of jumping to a page chosen at random from the entire web, they will reach Page E 8.1% of the time. <b>(The 15% likelihood of jumping to an arbitrary page corresponds to a damping factor of 85%.) Without damping, all web surfers would eventually end up on Pages A, B, or C, and all other pages would have PageRank zero. In the presence of damping, Page A effectively links to all pages in the web, even though it has no outgoing links of its own.</b>\n",
    "\n",
    "https://en.wikipedia.org/wiki/PageRank"
   ],
   "cell_type": "markdown",
   "metadata": {}
  },
  {
   "source": [
    "### ` page rank is fairly based on complex graph theory, so we are not going to go deep here about various aspects of pagerank like 'alhpa value' etc.` "
   ],
   "cell_type": "markdown",
   "metadata": {}
  },
  {
   "cell_type": "code",
   "execution_count": 9,
   "metadata": {},
   "outputs": [],
   "source": [
    "if not os.path.isfile('datasets/pickle/page_rank.p'):\n",
    "    pr = nx.pagerank(tg, alpha=0.85)\n",
    "    pickle.dump(pr,open('datasets/pickle/page_rank.p','wb'))\n",
    "else:\n",
    "    pr = pickle.load(open('datasets/pickle/page_rank.p','rb'))"
   ]
  },
  {
   "cell_type": "code",
   "execution_count": 10,
   "metadata": {},
   "outputs": [
    {
     "output_type": "execute_result",
     "data": {
      "text/plain": [
       "dict"
      ]
     },
     "metadata": {},
     "execution_count": 10
    }
   ],
   "source": [
    "type(pr)"
   ]
  },
  {
   "cell_type": "code",
   "execution_count": 11,
   "metadata": {},
   "outputs": [
    {
     "output_type": "stream",
     "name": "stdout",
     "text": [
      "min 1.6556497245737814e-07\nmax 2.7098251341935827e-05\nmean 5.615699699389075e-07\n"
     ]
    }
   ],
   "source": [
    "print('min',min(list(pr.values())))\n",
    "print('max',max(list(pr.values())))\n",
    "print('mean',float(sum(pr.values())) / len(pr))"
   ]
  },
  {
   "cell_type": "code",
   "execution_count": 12,
   "metadata": {},
   "outputs": [
    {
     "output_type": "stream",
     "name": "stdout",
     "text": [
      "5.615699699389075e-07\n"
     ]
    }
   ],
   "source": [
    "#for imputing to nodes which are not there in Train data\n",
    "mean_pr = float(sum(pr.values())) / len(pr)\n",
    "print(mean_pr)"
   ]
  },
  {
   "source": [
    " # 4. Other Graph Features"
   ],
   "cell_type": "markdown",
   "metadata": {}
  },
  {
   "source": [
    "## 4.1 Shortest path:"
   ],
   "cell_type": "markdown",
   "metadata": {}
  },
  {
   "source": [
    "Getting Shortest path between twoo nodes, if nodes have direct path i.e directly connected then we are removing that edge and calculating path. "
   ],
   "cell_type": "markdown",
   "metadata": {}
  },
  {
   "cell_type": "code",
   "execution_count": 13,
   "metadata": {},
   "outputs": [],
   "source": [
    "def shortest_path(u,v,g):\n",
    "    try:\n",
    "        if not nx.has_path(g,u,v):\n",
    "            return -1\n",
    "        elif g.has_edge(u,v):\n",
    "            g.remove_edge(u,v)\n",
    "            p = nx.shortest_path_length(g,source=u,target=v)\n",
    "            g.add_edge(u,v)\n",
    "            return p\n",
    "        else:\n",
    "            return nx.shortest_path_length(g,source=u,target=v)\n",
    "    except:\n",
    "        return -1"
   ]
  },
  {
   "source": [
    "## 4.2 Checking for same community"
   ],
   "cell_type": "markdown",
   "metadata": {}
  },
  {
   "cell_type": "code",
   "execution_count": 14,
   "metadata": {},
   "outputs": [],
   "source": [
    "#getting weekly connected edges from graph \n",
    "wcc=list(nx.weakly_connected_components(tg))\n",
    "def same_wcc(u,v):\n",
    "    index = []\n",
    "    if tg.has_edge(v,u):\n",
    "        return 1\n",
    "    if tg.has_edge(u,v):\n",
    "            for i in wcc:\n",
    "                if u in i:\n",
    "                    index= i\n",
    "                    break\n",
    "            if (v in index):\n",
    "                tg.remove_edge(u,v)\n",
    "                if shortest_path(u,v,tg)==-1:\n",
    "                    tg.add_edge(u,v)\n",
    "                    return 0\n",
    "                else:\n",
    "                    tg.add_edge(u,v)\n",
    "                    return 1\n",
    "            else:\n",
    "                return 0\n",
    "    else:\n",
    "            for i in wcc:\n",
    "                if u in i:\n",
    "                    index= i\n",
    "                    break\n",
    "            if(v in index):\n",
    "                return 1\n",
    "            else:\n",
    "                return 0"
   ]
  },
  {
   "source": [
    "## 4.3 Adamic/Adar Index:\n",
    "Adamic/Adar measures is defined as inverted sum of degrees of common neighbours for given two vertices.\n",
    "$$A(x,y)=\\sum_{u \\in N(x) \\cap N(y)}\\frac{1}{log(|N(u)|)}$$"
   ],
   "cell_type": "markdown",
   "metadata": {}
  },
  {
   "cell_type": "code",
   "execution_count": 15,
   "metadata": {},
   "outputs": [],
   "source": [
    "#adar index\n",
    "def adar_index(u,v):\n",
    "    sum=0\n",
    "    try:\n",
    "        n=list(set(tg.successors(u)).intersection(set(tg.successors(v))))\n",
    "        if len(n)!=0:\n",
    "            for i in n:\n",
    "                sum=sum+(1/np.log10(len(list(tg.predecessors(i)))))\n",
    "            return sum\n",
    "        else:\n",
    "            return 0\n",
    "    except:\n",
    "        return 0"
   ]
  },
  {
   "source": [
    "## 4.4 Is persion was following back:"
   ],
   "cell_type": "markdown",
   "metadata": {}
  },
  {
   "cell_type": "code",
   "execution_count": 16,
   "metadata": {},
   "outputs": [],
   "source": [
    "def follow_back(u,v):\n",
    "    try:\n",
    "        if tg.has_edge(v,u):\n",
    "            return 1\n",
    "        else: \n",
    "            return 0 \n",
    "    except:\n",
    "        return 0 "
   ]
  },
  {
   "source": [
    "## 4.5 Katz Centrality:\n",
    "https://en.wikipedia.org/wiki/Katz_centrality\n",
    "\n",
    "https://www.geeksforgeeks.org/katz-centrality-centrality-measure/\n",
    " Katz centrality computes the centrality for a node \n",
    "    based on the centrality of its neighbors. It is a \n",
    "    generalization of the eigenvector centrality. The\n",
    "    Katz centrality for node `i` is\n",
    " \n",
    "$$x_i = \\alpha \\sum_{j} A_{ij} x_j + \\beta,$$\n",
    "where `A` is the adjacency matrix of the graph G \n",
    "with eigenvalues $$\\lambda$$.\n",
    "\n",
    "The parameter $$\\beta$$ controls the initial centrality and \n",
    "\n",
    "$$\\alpha < \\frac{1}{\\lambda_{max}}.$$"
   ],
   "cell_type": "markdown",
   "metadata": {}
  },
  {
   "cell_type": "code",
   "execution_count": 21,
   "metadata": {},
   "outputs": [
    {
     "output_type": "stream",
     "name": "stdout",
     "text": [
      "min 0.0007313532484065916\nmax 0.003394554981699122\n0.0007483800935562018\n"
     ]
    }
   ],
   "source": [
    "if not os.path.isfile('datasets/pickle/katz.p'):\n",
    "    katz = nx.katz.katz_centrality(tg,alpha=0.005,beta=1)\n",
    "    pickle.dump(katz,open('datasets/pickle/katz.p','wb'))\n",
    "else:\n",
    "    katz = pickle.load(open('datasets/pickle/katz.p','rb'))\n",
    "\n",
    "print('min',katz[min(katz, key=katz.get)])\n",
    "print('max',katz[max(katz, key=katz.get)])\n",
    "# print('mean',float(sum(katz.values())) / len(katz))\n",
    "\n",
    "mean_katz = float(sum(katz.values())) / len(katz)\n",
    "print(mean_katz)"
   ]
  },
  {
   "source": [
    "## 4.6 Hits Score\n",
    "The HITS algorithm computes two numbers for a node. Authorities estimates the node value based on the incoming links. Hubs estimates the node value based on outgoing links.\n",
    "\n",
    "https://en.wikipedia.org/wiki/HITS_algorithm"
   ],
   "cell_type": "markdown",
   "metadata": {}
  },
  {
   "cell_type": "code",
   "execution_count": 23,
   "metadata": {},
   "outputs": [
    {
     "output_type": "stream",
     "name": "stdout",
     "text": [
      "min 0.0\nmax 0.004868653378780953\nmean 5.615699699344123e-07\n"
     ]
    }
   ],
   "source": [
    "if not os.path.isfile('datasets/pickle/hits.p'):\n",
    "    hits = nx.hits(tg, max_iter=100, tol=1e-08, nstart=None, normalized=True)\n",
    "    pickle.dump(hits,open('datasets/pickle/hits.p','wb'))\n",
    "else:\n",
    "    hits = pickle.load(open('datasets/pickle/hits.p','rb'))\n",
    "\n",
    "print('min',hits[0][min(hits[0], key=hits[0].get)])\n",
    "print('max',hits[0][max(hits[0], key=hits[0].get)])\n",
    "print('mean',float(sum(hits[0].values())) / len(hits[0]))"
   ]
  },
  {
   "source": [
    "# 5. Featurization"
   ],
   "cell_type": "markdown",
   "metadata": {}
  },
  {
   "source": [
    "## 5. 1 Reading a sample of Data from both train and test"
   ],
   "cell_type": "markdown",
   "metadata": {}
  },
  {
   "cell_type": "code",
   "execution_count": null,
   "metadata": {},
   "outputs": [],
   "source": []
  }
 ]
}